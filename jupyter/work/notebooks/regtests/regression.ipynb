{
 "cells": [
  {
   "cell_type": "code",
   "execution_count": 1,
   "metadata": {
    "collapsed": false,
    "deletable": true,
    "editable": true
   },
   "outputs": [
    {
     "data": {
      "text/html": [
       "\n",
       "        <script type=\"text/javascript\">\n",
       "        \n",
       "        var nb = null;\n",
       "        var kernel = null;\n",
       "\n",
       "        if (IPython && \n",
       "            IPython.notebook && \n",
       "            IPython.notebook.kernel &&\n",
       "            IPython.notebook.kernel.info_reply &&\n",
       "            IPython.notebook.kernel.info_reply.status &&\n",
       "            IPython.notebook.kernel.info_reply.status == \"ok\") {\n",
       "            nb = IPython.notebook; \n",
       "            kernel = IPython.notebook.kernel;\n",
       "        }\n",
       "        \n",
       "        if (nb && kernel) {\n",
       "            var filename = nb.notebook_path;\n",
       "            var basename = filename.substring(filename.lastIndexOf('/') + 1);\n",
       "            var msg = 'Detected filename: '+basename;\n",
       "            document.getElementById(\"detected_notebook_filename_tag\").innerHTML=msg;\n",
       "            var command = \"import os; os.environ['NB_FILENAME']= '\" + basename + \"'\";\n",
       "            kernel.execute(command);\n",
       "        } else {\n",
       "            var msg = 'Not connected to kernel.';\n",
       "            document.getElementById(\"detected_notebook_filename_tag\").innerHTML=msg;\n",
       "        }\n",
       "        </script><pre id=\"detected_notebook_filename_tag\"></pre>\n",
       "      "
      ],
      "text/plain": [
       "<IPython.core.display.HTML object>"
      ]
     },
     "execution_count": 1,
     "metadata": {},
     "output_type": "execute_result"
    }
   ],
   "source": [
    "%%datalabframework getfilename"
   ]
  },
  {
   "cell_type": "code",
   "execution_count": 2,
   "metadata": {
    "collapsed": false,
    "deletable": true,
    "editable": true
   },
   "outputs": [
    {
     "name": "stdout",
     "output_type": "stream",
     "text": [
      "2017-04-30 14:26:30,699 - jovyan - __main__ - INFO - init - {'notebook': {'filepath': '/home/jovyan/work/notebooks/regtests', 'filename': 'regression.ipynb'}, 'datalab': {'framework': '0.1'}, 'project': {'main': 'main.ipynb', 'rootpath': '/home/jovyan/work/notebooks'}}\n"
     ]
    }
   ],
   "source": [
    "import datalabframework as dlf\n",
    "logger = dlf.log.initLogger(__name__, kafka_topic=\"datalab\", kafka_servers=\"kafka:9092\")"
   ]
  },
  {
   "cell_type": "code",
   "execution_count": 3,
   "metadata": {
    "collapsed": false,
    "deletable": true,
    "editable": true
   },
   "outputs": [
    {
     "data": {
      "text/plain": [
       "['main.ipynb',\n",
       " 'extract/extract.ipynb',\n",
       " 'features/features.ipynb',\n",
       " 'flows/lr.ipynb',\n",
       " 'models/lr.ipynb',\n",
       " 'models/lr_grid.ipynb',\n",
       " 'regtests/regression.ipynb',\n",
       " 'validate/validate.ipynb']"
      ]
     },
     "execution_count": 3,
     "metadata": {},
     "output_type": "execute_result"
    }
   ],
   "source": [
    "dlf.notebook.list_all()"
   ]
  },
  {
   "cell_type": "code",
   "execution_count": 4,
   "metadata": {
    "collapsed": false,
    "deletable": true,
    "editable": true
   },
   "outputs": [
    {
     "data": {
      "text/plain": [
       "[{'cells': 22,\n",
       "  'code': 19,\n",
       "  'duration': 23.8315,\n",
       "  'ename': None,\n",
       "  'evalue': None,\n",
       "  'executed': 19,\n",
       "  'filename': '/home/jovyan/work/notebooks/features/features.ipynb',\n",
       "  'markdown': 3,\n",
       "  'success': 1}]"
      ]
     },
     "execution_count": 4,
     "metadata": {},
     "output_type": "execute_result"
    }
   ],
   "source": [
    "dlf.notebook.execute('features/features.ipynb')"
   ]
  },
  {
   "cell_type": "code",
   "execution_count": 5,
   "metadata": {
    "collapsed": false,
    "deletable": true,
    "editable": true
   },
   "outputs": [
    {
     "name": "stdout",
     "output_type": "stream",
     "text": [
      "Running main.ipynb\n",
      "Running extract/extract.ipynb\n",
      "Running features/features.ipynb\n",
      "Running flows/lr.ipynb\n",
      "Running models/lr.ipynb\n",
      "Running models/lr_grid.ipynb\n",
      "Running validate/validate.ipynb\n"
     ]
    }
   ],
   "source": [
    "import pandas as pd\n",
    "\n",
    "runs = pd.DataFrame()\n",
    "tests = dlf.notebook.list_all(removelist=['regtests'])\n",
    "\n",
    "for nb in tests:\n",
    "    print('Running {}'.format(nb))\n",
    "    data = dlf.notebook.execute(nb)\n",
    "    df = pd.DataFrame(data)\n",
    "    runs = runs.append(df, ignore_index=True)"
   ]
  },
  {
   "cell_type": "code",
   "execution_count": 7,
   "metadata": {
    "collapsed": false,
    "deletable": true,
    "editable": true
   },
   "outputs": [
    {
     "data": {
      "text/html": [
       "<div>\n",
       "<table border=\"1\" class=\"dataframe\">\n",
       "  <thead>\n",
       "    <tr style=\"text-align: right;\">\n",
       "      <th></th>\n",
       "      <th>cells</th>\n",
       "      <th>code</th>\n",
       "      <th>duration</th>\n",
       "      <th>ename</th>\n",
       "      <th>evalue</th>\n",
       "      <th>executed</th>\n",
       "      <th>filename</th>\n",
       "      <th>markdown</th>\n",
       "      <th>success</th>\n",
       "    </tr>\n",
       "  </thead>\n",
       "  <tbody>\n",
       "    <tr>\n",
       "      <th>0</th>\n",
       "      <td>1</td>\n",
       "      <td>NaN</td>\n",
       "      <td>2.542244</td>\n",
       "      <td>None</td>\n",
       "      <td>None</td>\n",
       "      <td>0</td>\n",
       "      <td>/home/jovyan/work/notebooks/main.ipynb</td>\n",
       "      <td>1.0</td>\n",
       "      <td>1</td>\n",
       "    </tr>\n",
       "    <tr>\n",
       "      <th>1</th>\n",
       "      <td>18</td>\n",
       "      <td>10.0</td>\n",
       "      <td>10.585248</td>\n",
       "      <td>None</td>\n",
       "      <td>None</td>\n",
       "      <td>10</td>\n",
       "      <td>/home/jovyan/work/notebooks/extract/extract.ipynb</td>\n",
       "      <td>8.0</td>\n",
       "      <td>1</td>\n",
       "    </tr>\n",
       "    <tr>\n",
       "      <th>2</th>\n",
       "      <td>23</td>\n",
       "      <td>20.0</td>\n",
       "      <td>21.715068</td>\n",
       "      <td>None</td>\n",
       "      <td>None</td>\n",
       "      <td>20</td>\n",
       "      <td>/home/jovyan/work/notebooks/features/features....</td>\n",
       "      <td>3.0</td>\n",
       "      <td>1</td>\n",
       "    </tr>\n",
       "    <tr>\n",
       "      <th>3</th>\n",
       "      <td>9</td>\n",
       "      <td>9.0</td>\n",
       "      <td>19.684806</td>\n",
       "      <td>None</td>\n",
       "      <td>None</td>\n",
       "      <td>9</td>\n",
       "      <td>/home/jovyan/work/notebooks/flows/lr.ipynb</td>\n",
       "      <td>NaN</td>\n",
       "      <td>1</td>\n",
       "    </tr>\n",
       "    <tr>\n",
       "      <th>4</th>\n",
       "      <td>16</td>\n",
       "      <td>15.0</td>\n",
       "      <td>2.573566</td>\n",
       "      <td>NameError</td>\n",
       "      <td>name 'params' is not defined</td>\n",
       "      <td>5</td>\n",
       "      <td>/home/jovyan/work/notebooks/models/lr.ipynb</td>\n",
       "      <td>1.0</td>\n",
       "      <td>0</td>\n",
       "    </tr>\n",
       "    <tr>\n",
       "      <th>5</th>\n",
       "      <td>15</td>\n",
       "      <td>14.0</td>\n",
       "      <td>55.658379</td>\n",
       "      <td>None</td>\n",
       "      <td>None</td>\n",
       "      <td>14</td>\n",
       "      <td>/home/jovyan/work/notebooks/models/lr_grid.ipynb</td>\n",
       "      <td>1.0</td>\n",
       "      <td>1</td>\n",
       "    </tr>\n",
       "    <tr>\n",
       "      <th>6</th>\n",
       "      <td>12</td>\n",
       "      <td>12.0</td>\n",
       "      <td>13.581757</td>\n",
       "      <td>None</td>\n",
       "      <td>None</td>\n",
       "      <td>12</td>\n",
       "      <td>/home/jovyan/work/notebooks/validate/validate....</td>\n",
       "      <td>NaN</td>\n",
       "      <td>1</td>\n",
       "    </tr>\n",
       "  </tbody>\n",
       "</table>\n",
       "</div>"
      ],
      "text/plain": [
       "   cells  code   duration      ename                        evalue  executed  \\\n",
       "0      1   NaN   2.542244       None                          None         0   \n",
       "1     18  10.0  10.585248       None                          None        10   \n",
       "2     23  20.0  21.715068       None                          None        20   \n",
       "3      9   9.0  19.684806       None                          None         9   \n",
       "4     16  15.0   2.573566  NameError  name 'params' is not defined         5   \n",
       "5     15  14.0  55.658379       None                          None        14   \n",
       "6     12  12.0  13.581757       None                          None        12   \n",
       "\n",
       "                                            filename  markdown  success  \n",
       "0             /home/jovyan/work/notebooks/main.ipynb       1.0        1  \n",
       "1  /home/jovyan/work/notebooks/extract/extract.ipynb       8.0        1  \n",
       "2  /home/jovyan/work/notebooks/features/features....       3.0        1  \n",
       "3         /home/jovyan/work/notebooks/flows/lr.ipynb       NaN        1  \n",
       "4        /home/jovyan/work/notebooks/models/lr.ipynb       1.0        0  \n",
       "5   /home/jovyan/work/notebooks/models/lr_grid.ipynb       1.0        1  \n",
       "6  /home/jovyan/work/notebooks/validate/validate....       NaN        1  "
      ]
     },
     "execution_count": 7,
     "metadata": {},
     "output_type": "execute_result"
    }
   ],
   "source": [
    "runs"
   ]
  },
  {
   "cell_type": "code",
   "execution_count": 8,
   "metadata": {
    "collapsed": false,
    "deletable": true,
    "editable": true
   },
   "outputs": [
    {
     "data": {
      "text/plain": [
       "cells                                                16\n",
       "code                                                 15\n",
       "duration                                        2.57357\n",
       "ename                                         NameError\n",
       "evalue                     name 'params' is not defined\n",
       "executed                                              5\n",
       "filename    /home/jovyan/work/notebooks/models/lr.ipynb\n",
       "markdown                                              1\n",
       "success                                               0\n",
       "Name: 4, dtype: object"
      ]
     },
     "execution_count": 8,
     "metadata": {},
     "output_type": "execute_result"
    }
   ],
   "source": [
    "runs.iloc[4]"
   ]
  },
  {
   "cell_type": "code",
   "execution_count": null,
   "metadata": {
    "collapsed": true,
    "deletable": true,
    "editable": true
   },
   "outputs": [],
   "source": []
  }
 ],
 "metadata": {
  "kernelspec": {
   "display_name": "Python 3",
   "language": "python",
   "name": "python3"
  },
  "language_info": {
   "codemirror_mode": {
    "name": "ipython",
    "version": 3
   },
   "file_extension": ".py",
   "mimetype": "text/x-python",
   "name": "python",
   "nbconvert_exporter": "python",
   "pygments_lexer": "ipython3",
   "version": "3.5.2"
  }
 },
 "nbformat": 4,
 "nbformat_minor": 2
}
