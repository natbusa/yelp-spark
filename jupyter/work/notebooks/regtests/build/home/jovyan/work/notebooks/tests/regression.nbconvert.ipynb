{
 "cells": [
  {
   "cell_type": "code",
   "execution_count": 1,
   "metadata": {
    "collapsed": false,
    "deletable": true,
    "editable": true
   },
   "outputs": [],
   "source": [
    "import os,sys\n",
    "module_path = os.path.abspath(os.path.join('../..'))\n",
    "if module_path not in sys.path: sys.path.append(module_path)\n",
    "\n",
    "from notebooks.utils.export import generate_exports\n",
    "generate_exports()"
   ]
  },
  {
   "cell_type": "code",
   "execution_count": 2,
   "metadata": {
    "collapsed": false,
    "deletable": true,
    "editable": true
   },
   "outputs": [],
   "source": [
    "from notebooks.utils import notebook"
   ]
  },
  {
   "cell_type": "code",
   "execution_count": 3,
   "metadata": {
    "collapsed": false
   },
   "outputs": [
    {
     "data": {
      "text/plain": [
       "['main.ipynb',\n",
       " 'extract/extract.ipynb',\n",
       " 'features/features.ipynb',\n",
       " 'flows/lr.ipynb',\n",
       " 'models/lr.ipynb',\n",
       " 'models/lr_grid.ipynb',\n",
       " 'tests/regression.ipynb',\n",
       " 'validate/validate.ipynb']"
      ]
     },
     "execution_count": 3,
     "metadata": {},
     "output_type": "execute_result"
    }
   ],
   "source": [
    "notebook.list_all()"
   ]
  },
  {
   "cell_type": "code",
   "execution_count": 4,
   "metadata": {
    "collapsed": false
   },
   "outputs": [
    {
     "data": {
      "text/plain": [
       "[{'cells': 23,\n",
       "  'code': 20,\n",
       "  'duration': 24.733159,\n",
       "  'ename': None,\n",
       "  'evalue': None,\n",
       "  'executed': 20,\n",
       "  'filename': '/home/jovyan/work/notebooks/features/features.ipynb',\n",
       "  'markdown': 3,\n",
       "  'success': 1}]"
      ]
     },
     "execution_count": 4,
     "metadata": {},
     "output_type": "execute_result"
    }
   ],
   "source": [
    "notebook.execute('features/features.ipynb')"
   ]
  },
  {
   "cell_type": "code",
   "execution_count": null,
   "metadata": {
    "collapsed": false,
    "deletable": true,
    "editable": true
   },
   "outputs": [],
   "source": [
    "import pandas as pd\n",
    "\n",
    "runs = pd.DataFrame()\n",
    "tests = notebook.list_all(removelist=['regtests'])\n",
    "\n",
    "for nb in tests:\n",
    "    print('Running {}'.format(nb))\n",
    "    data = notebook.execute(nb)\n",
    "    df = pd.DataFrame(data)\n",
    "    runs = runs.append(df, ignore_index=True)"
   ]
  },
  {
   "cell_type": "code",
   "execution_count": null,
   "metadata": {
    "collapsed": false,
    "deletable": true,
    "editable": true
   },
   "outputs": [],
   "source": [
    "runs"
   ]
  },
  {
   "cell_type": "code",
   "execution_count": null,
   "metadata": {
    "collapsed": false,
    "deletable": true,
    "editable": true
   },
   "outputs": [],
   "source": [
    "runs.iloc[2]"
   ]
  },
  {
   "cell_type": "code",
   "execution_count": null,
   "metadata": {
    "collapsed": true,
    "deletable": true,
    "editable": true
   },
   "outputs": [],
   "source": []
  }
 ],
 "metadata": {},
 "nbformat": 4,
 "nbformat_minor": 2
}
